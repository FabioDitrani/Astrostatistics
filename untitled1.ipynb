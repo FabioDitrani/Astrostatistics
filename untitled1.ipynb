#!/usr/bin/env python3
# -*- coding: utf-8 -*-
"""
Created on Tue Feb 28 12:14:09 2023

@author: fabioditrani
"""

print('mah')